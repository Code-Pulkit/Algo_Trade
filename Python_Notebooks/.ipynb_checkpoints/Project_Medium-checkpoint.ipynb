{
 "cells": [
  {
   "cell_type": "code",
   "execution_count": 1,
   "id": "dfe714f0",
   "metadata": {},
   "outputs": [
    {
     "name": "stdout",
     "output_type": "stream",
     "text": [
      "Requirement already satisfied: yfinance in /Users/pulkitjindal/opt/miniconda3/lib/python3.9/site-packages (0.1.70)\n",
      "Requirement already satisfied: lxml>=4.5.1 in /Users/pulkitjindal/opt/miniconda3/lib/python3.9/site-packages (from yfinance) (4.6.3)\n",
      "Requirement already satisfied: requests>=2.26 in /Users/pulkitjindal/opt/miniconda3/lib/python3.9/site-packages (from yfinance) (2.26.0)\n",
      "Requirement already satisfied: multitasking>=0.0.7 in /Users/pulkitjindal/opt/miniconda3/lib/python3.9/site-packages (from yfinance) (0.0.10)\n",
      "Requirement already satisfied: pandas>=0.24.0 in /Users/pulkitjindal/opt/miniconda3/lib/python3.9/site-packages (from yfinance) (1.4.2)\n",
      "Requirement already satisfied: numpy>=1.15 in /Users/pulkitjindal/opt/miniconda3/lib/python3.9/site-packages (from yfinance) (1.21.2)\n",
      "Requirement already satisfied: pytz>=2020.1 in /Users/pulkitjindal/opt/miniconda3/lib/python3.9/site-packages (from pandas>=0.24.0->yfinance) (2021.1)\n",
      "Requirement already satisfied: python-dateutil>=2.8.1 in /Users/pulkitjindal/opt/miniconda3/lib/python3.9/site-packages (from pandas>=0.24.0->yfinance) (2.8.2)\n",
      "Requirement already satisfied: certifi>=2017.4.17 in /Users/pulkitjindal/opt/miniconda3/lib/python3.9/site-packages (from requests>=2.26->yfinance) (2019.6.16)\n",
      "Requirement already satisfied: urllib3<1.27,>=1.21.1 in /Users/pulkitjindal/opt/miniconda3/lib/python3.9/site-packages (from requests>=2.26->yfinance) (1.25.3)\n",
      "Requirement already satisfied: charset-normalizer~=2.0.0 in /Users/pulkitjindal/opt/miniconda3/lib/python3.9/site-packages (from requests>=2.26->yfinance) (2.0.4)\n",
      "Requirement already satisfied: idna<4,>=2.5 in /Users/pulkitjindal/opt/miniconda3/lib/python3.9/site-packages (from requests>=2.26->yfinance) (2.8)\n",
      "Requirement already satisfied: six>=1.5 in /Users/pulkitjindal/opt/miniconda3/lib/python3.9/site-packages (from python-dateutil>=2.8.1->pandas>=0.24.0->yfinance) (1.16.0)\n"
     ]
    }
   ],
   "source": [
    "!pip install yfinance"
   ]
  },
  {
   "cell_type": "code",
   "execution_count": 11,
   "id": "be0993c7",
   "metadata": {},
   "outputs": [
    {
     "name": "stdout",
     "output_type": "stream",
     "text": [
      "Collecting datetime\n",
      "  Downloading DateTime-4.4-py2.py3-none-any.whl (51 kB)\n",
      "\u001b[2K     \u001b[90m━━━━━━━━━━━━━━━━━━━━━━━━━━━━━━━━━━━━━━━━\u001b[0m \u001b[32m51.7/51.7 kB\u001b[0m \u001b[31m1.5 MB/s\u001b[0m eta \u001b[36m0:00:00\u001b[0m\n",
      "\u001b[?25hRequirement already satisfied: pytz in /Users/pulkitjindal/opt/miniconda3/lib/python3.9/site-packages (from datetime) (2021.1)\n",
      "Collecting zope.interface\n",
      "  Downloading zope.interface-5.4.0-cp39-cp39-macosx_10_14_x86_64.whl (208 kB)\n",
      "\u001b[2K     \u001b[90m━━━━━━━━━━━━━━━━━━━━━━━━━━━━━━━━━━━━━━━\u001b[0m \u001b[32m208.5/208.5 kB\u001b[0m \u001b[31m3.5 MB/s\u001b[0m eta \u001b[36m0:00:00\u001b[0m00:01\u001b[0m\n",
      "\u001b[?25hRequirement already satisfied: setuptools in /Users/pulkitjindal/opt/miniconda3/lib/python3.9/site-packages (from zope.interface->datetime) (51.0.0.post20201207)\n",
      "Installing collected packages: zope.interface, datetime\n",
      "Successfully installed datetime-4.4 zope.interface-5.4.0\n"
     ]
    }
   ],
   "source": [
    "!pip install datetime"
   ]
  },
  {
   "cell_type": "code",
   "execution_count": 13,
   "id": "5fb6ee58",
   "metadata": {},
   "outputs": [],
   "source": [
    "import bs4 as bs\n",
    "import requests \n",
    "import pandas as pd\n",
    "import numpy as np\n",
    "import pandas_datareader as pdr\n",
    "import yfinance as yf\n",
    "import sqlalchemy \n",
    "import datetime as dt\n",
    "from pandas.tseries.offsets import MonthEnd"
   ]
  },
  {
   "cell_type": "code",
   "execution_count": 17,
   "id": "55d83bdf",
   "metadata": {},
   "outputs": [],
   "source": [
    "tickersSensex = pd.read_html('https://en.wikipedia.org/wiki/BSE_SENSEX')[1].Symbol.to_list()"
   ]
  },
  {
   "cell_type": "code",
   "execution_count": 18,
   "id": "3e345526",
   "metadata": {},
   "outputs": [
    {
     "data": {
      "text/plain": [
       "['ASIANPAINT.BO',\n",
       " 'AXISBANK.BO',\n",
       " 'BAJAJ-AUTO.BO',\n",
       " 'BAJFINANCE.BO',\n",
       " 'BAJAJFINSV.BO',\n",
       " 'BHARTIARTL.BO',\n",
       " 'DRREDDY.BO',\n",
       " 'HCLTECH.BO',\n",
       " 'HDFC.BO',\n",
       " 'HDFCBANK.BO',\n",
       " 'HINDUNILVR.BO',\n",
       " 'ICICIBANK.BO',\n",
       " 'INDUSINDBK.BO',\n",
       " 'INFY.BO',\n",
       " 'ITC.BO',\n",
       " 'KOTAKBANK.BO',\n",
       " 'LT.BO',\n",
       " 'M&M.BO',\n",
       " 'MARUTI.BO',\n",
       " 'NESTLEIND.BO',\n",
       " 'NTPC.BO',\n",
       " 'ONGC.BO',\n",
       " 'POWERGRID.BO',\n",
       " 'RELIANCE.BO',\n",
       " 'SBIN.BO',\n",
       " 'SUNPHARMA.BO',\n",
       " 'TCS.BO',\n",
       " 'TECHM.BO',\n",
       " 'TITAN.BO',\n",
       " 'ULTRACEMCO.BO']"
      ]
     },
     "execution_count": 18,
     "metadata": {},
     "output_type": "execute_result"
    }
   ],
   "source": [
    "tickersSensex"
   ]
  },
  {
   "cell_type": "code",
   "execution_count": 34,
   "id": "7e3f3fcc",
   "metadata": {},
   "outputs": [
    {
     "name": "stdout",
     "output_type": "stream",
     "text": [
      "[*********************100%***********************]  1 of 1 completed\n",
      "Empty DataFrame\n",
      "Columns: []\n",
      "Index: []\n",
      "[*********************100%***********************]  1 of 1 completed\n",
      "Empty DataFrame\n",
      "Columns: []\n",
      "Index: []\n",
      "[*********************100%***********************]  1 of 1 completed\n",
      "Empty DataFrame\n",
      "Columns: []\n",
      "Index: []\n",
      "[*********************100%***********************]  1 of 1 completed\n",
      "Empty DataFrame\n",
      "Columns: []\n",
      "Index: []\n",
      "[*********************100%***********************]  1 of 1 completed\n",
      "Empty DataFrame\n",
      "Columns: []\n",
      "Index: []\n",
      "[*********************100%***********************]  1 of 1 completed\n",
      "Empty DataFrame\n",
      "Columns: []\n",
      "Index: []\n",
      "[*********************100%***********************]  1 of 1 completed\n",
      "Empty DataFrame\n",
      "Columns: []\n",
      "Index: []\n",
      "[*********************100%***********************]  1 of 1 completed\n",
      "Empty DataFrame\n",
      "Columns: []\n",
      "Index: []\n",
      "[*********************100%***********************]  1 of 1 completed\n",
      "Empty DataFrame\n",
      "Columns: []\n",
      "Index: []\n",
      "[*********************100%***********************]  1 of 1 completed\n",
      "Empty DataFrame\n",
      "Columns: []\n",
      "Index: []\n",
      "[*********************100%***********************]  1 of 1 completed\n",
      "Empty DataFrame\n",
      "Columns: []\n",
      "Index: []\n",
      "[*********************100%***********************]  1 of 1 completed\n",
      "Empty DataFrame\n",
      "Columns: []\n",
      "Index: []\n",
      "[*********************100%***********************]  1 of 1 completed\n",
      "Empty DataFrame\n",
      "Columns: []\n",
      "Index: []\n",
      "[*********************100%***********************]  1 of 1 completed\n",
      "Empty DataFrame\n",
      "Columns: []\n",
      "Index: []\n",
      "[*********************100%***********************]  1 of 1 completed\n",
      "Empty DataFrame\n",
      "Columns: []\n",
      "Index: []\n",
      "[*********************100%***********************]  1 of 1 completed\n",
      "Empty DataFrame\n",
      "Columns: []\n",
      "Index: []\n",
      "[*********************100%***********************]  1 of 1 completed\n",
      "Empty DataFrame\n",
      "Columns: []\n",
      "Index: []\n",
      "[*********************100%***********************]  1 of 1 completed\n",
      "Empty DataFrame\n",
      "Columns: []\n",
      "Index: []\n",
      "[*********************100%***********************]  1 of 1 completed\n",
      "Empty DataFrame\n",
      "Columns: []\n",
      "Index: []\n",
      "[*********************100%***********************]  1 of 1 completed\n",
      "Empty DataFrame\n",
      "Columns: []\n",
      "Index: []\n",
      "[*********************100%***********************]  1 of 1 completed\n",
      "Empty DataFrame\n",
      "Columns: []\n",
      "Index: []\n",
      "[*********************100%***********************]  1 of 1 completed\n",
      "Empty DataFrame\n",
      "Columns: []\n",
      "Index: []\n",
      "[*********************100%***********************]  1 of 1 completed\n",
      "Empty DataFrame\n",
      "Columns: []\n",
      "Index: []\n",
      "[*********************100%***********************]  1 of 1 completed\n",
      "Empty DataFrame\n",
      "Columns: []\n",
      "Index: []\n",
      "[*********************100%***********************]  1 of 1 completed\n",
      "Empty DataFrame\n",
      "Columns: []\n",
      "Index: []\n",
      "[*********************100%***********************]  1 of 1 completed\n",
      "Empty DataFrame\n",
      "Columns: []\n",
      "Index: []\n",
      "[*********************100%***********************]  1 of 1 completed\n",
      "Empty DataFrame\n",
      "Columns: []\n",
      "Index: []\n",
      "[*********************100%***********************]  1 of 1 completed\n",
      "Empty DataFrame\n",
      "Columns: []\n",
      "Index: []\n",
      "[*********************100%***********************]  1 of 1 completed\n",
      "Empty DataFrame\n",
      "Columns: []\n",
      "Index: []\n",
      "[*********************100%***********************]  1 of 1 completed\n",
      "Empty DataFrame\n",
      "Columns: []\n",
      "Index: []\n"
     ]
    }
   ],
   "source": [
    "all_data = pd.DataFrame()\n",
    "\n",
    "for ticker in tickersSensex : \n",
    "    pd.concat([pd.DataFrmae(yf.download(ticker).reset_index()) , all_data], axis = 0)\n"
   ]
  },
  {
   "cell_type": "code",
   "execution_count": null,
   "id": "cba52b82",
   "metadata": {},
   "outputs": [],
   "source": []
  },
  {
   "cell_type": "code",
   "execution_count": null,
   "id": "11e212a6",
   "metadata": {},
   "outputs": [],
   "source": []
  },
  {
   "cell_type": "code",
   "execution_count": null,
   "id": "dd4770c5",
   "metadata": {},
   "outputs": [],
   "source": []
  }
 ],
 "metadata": {
  "kernelspec": {
   "display_name": "Python 3",
   "language": "python",
   "name": "python3"
  },
  "language_info": {
   "codemirror_mode": {
    "name": "ipython",
    "version": 3
   },
   "file_extension": ".py",
   "mimetype": "text/x-python",
   "name": "python",
   "nbconvert_exporter": "python",
   "pygments_lexer": "ipython3",
   "version": "3.9.1"
  }
 },
 "nbformat": 4,
 "nbformat_minor": 5
}
