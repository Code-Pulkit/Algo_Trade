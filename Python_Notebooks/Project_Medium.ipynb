{
 "cells": [
  {
   "cell_type": "code",
   "execution_count": 1,
   "id": "dfe714f0",
   "metadata": {},
   "outputs": [
    {
     "name": "stdout",
     "output_type": "stream",
     "text": [
      "Requirement already satisfied: yfinance in /Users/pulkitjindal/opt/miniconda3/lib/python3.9/site-packages (0.1.70)\n",
      "Requirement already satisfied: lxml>=4.5.1 in /Users/pulkitjindal/opt/miniconda3/lib/python3.9/site-packages (from yfinance) (4.6.3)\n",
      "Requirement already satisfied: requests>=2.26 in /Users/pulkitjindal/opt/miniconda3/lib/python3.9/site-packages (from yfinance) (2.26.0)\n",
      "Requirement already satisfied: multitasking>=0.0.7 in /Users/pulkitjindal/opt/miniconda3/lib/python3.9/site-packages (from yfinance) (0.0.10)\n",
      "Requirement already satisfied: pandas>=0.24.0 in /Users/pulkitjindal/opt/miniconda3/lib/python3.9/site-packages (from yfinance) (1.4.2)\n",
      "Requirement already satisfied: numpy>=1.15 in /Users/pulkitjindal/opt/miniconda3/lib/python3.9/site-packages (from yfinance) (1.21.2)\n",
      "Requirement already satisfied: pytz>=2020.1 in /Users/pulkitjindal/opt/miniconda3/lib/python3.9/site-packages (from pandas>=0.24.0->yfinance) (2021.1)\n",
      "Requirement already satisfied: python-dateutil>=2.8.1 in /Users/pulkitjindal/opt/miniconda3/lib/python3.9/site-packages (from pandas>=0.24.0->yfinance) (2.8.2)\n",
      "Requirement already satisfied: certifi>=2017.4.17 in /Users/pulkitjindal/opt/miniconda3/lib/python3.9/site-packages (from requests>=2.26->yfinance) (2019.6.16)\n",
      "Requirement already satisfied: urllib3<1.27,>=1.21.1 in /Users/pulkitjindal/opt/miniconda3/lib/python3.9/site-packages (from requests>=2.26->yfinance) (1.25.3)\n",
      "Requirement already satisfied: charset-normalizer~=2.0.0 in /Users/pulkitjindal/opt/miniconda3/lib/python3.9/site-packages (from requests>=2.26->yfinance) (2.0.4)\n",
      "Requirement already satisfied: idna<4,>=2.5 in /Users/pulkitjindal/opt/miniconda3/lib/python3.9/site-packages (from requests>=2.26->yfinance) (2.8)\n",
      "Requirement already satisfied: six>=1.5 in /Users/pulkitjindal/opt/miniconda3/lib/python3.9/site-packages (from python-dateutil>=2.8.1->pandas>=0.24.0->yfinance) (1.16.0)\n"
     ]
    }
   ],
   "source": [
    "!pip install yfinance"
   ]
  },
  {
   "cell_type": "code",
   "execution_count": 11,
   "id": "be0993c7",
   "metadata": {},
   "outputs": [
    {
     "name": "stdout",
     "output_type": "stream",
     "text": [
      "Collecting datetime\n",
      "  Downloading DateTime-4.4-py2.py3-none-any.whl (51 kB)\n",
      "\u001b[2K     \u001b[90m━━━━━━━━━━━━━━━━━━━━━━━━━━━━━━━━━━━━━━━━\u001b[0m \u001b[32m51.7/51.7 kB\u001b[0m \u001b[31m1.5 MB/s\u001b[0m eta \u001b[36m0:00:00\u001b[0m\n",
      "\u001b[?25hRequirement already satisfied: pytz in /Users/pulkitjindal/opt/miniconda3/lib/python3.9/site-packages (from datetime) (2021.1)\n",
      "Collecting zope.interface\n",
      "  Downloading zope.interface-5.4.0-cp39-cp39-macosx_10_14_x86_64.whl (208 kB)\n",
      "\u001b[2K     \u001b[90m━━━━━━━━━━━━━━━━━━━━━━━━━━━━━━━━━━━━━━━\u001b[0m \u001b[32m208.5/208.5 kB\u001b[0m \u001b[31m3.5 MB/s\u001b[0m eta \u001b[36m0:00:00\u001b[0m00:01\u001b[0m\n",
      "\u001b[?25hRequirement already satisfied: setuptools in /Users/pulkitjindal/opt/miniconda3/lib/python3.9/site-packages (from zope.interface->datetime) (51.0.0.post20201207)\n",
      "Installing collected packages: zope.interface, datetime\n",
      "Successfully installed datetime-4.4 zope.interface-5.4.0\n"
     ]
    }
   ],
   "source": [
    "!pip install datetime"
   ]
  },
  {
   "cell_type": "code",
   "execution_count": 13,
   "id": "5fb6ee58",
   "metadata": {},
   "outputs": [],
   "source": [
    "import bs4 as bs\n",
    "import requests \n",
    "import pandas as pd\n",
    "import numpy as np\n",
    "import pandas_datareader as pdr\n",
    "import yfinance as yf\n",
    "import sqlalchemy \n",
    "import datetime as dt\n",
    "from pandas.tseries.offsets import MonthEnd"
   ]
  },
  {
   "cell_type": "code",
   "execution_count": 17,
   "id": "55d83bdf",
   "metadata": {},
   "outputs": [],
   "source": [
    "tickersSensex = pd.read_html('https://en.wikipedia.org/wiki/BSE_SENSEX')[1].Symbol.to_list()"
   ]
  },
  {
   "cell_type": "code",
   "execution_count": 18,
   "id": "3e345526",
   "metadata": {},
   "outputs": [
    {
     "data": {
      "text/plain": [
       "['ASIANPAINT.BO',\n",
       " 'AXISBANK.BO',\n",
       " 'BAJAJ-AUTO.BO',\n",
       " 'BAJFINANCE.BO',\n",
       " 'BAJAJFINSV.BO',\n",
       " 'BHARTIARTL.BO',\n",
       " 'DRREDDY.BO',\n",
       " 'HCLTECH.BO',\n",
       " 'HDFC.BO',\n",
       " 'HDFCBANK.BO',\n",
       " 'HINDUNILVR.BO',\n",
       " 'ICICIBANK.BO',\n",
       " 'INDUSINDBK.BO',\n",
       " 'INFY.BO',\n",
       " 'ITC.BO',\n",
       " 'KOTAKBANK.BO',\n",
       " 'LT.BO',\n",
       " 'M&M.BO',\n",
       " 'MARUTI.BO',\n",
       " 'NESTLEIND.BO',\n",
       " 'NTPC.BO',\n",
       " 'ONGC.BO',\n",
       " 'POWERGRID.BO',\n",
       " 'RELIANCE.BO',\n",
       " 'SBIN.BO',\n",
       " 'SUNPHARMA.BO',\n",
       " 'TCS.BO',\n",
       " 'TECHM.BO',\n",
       " 'TITAN.BO',\n",
       " 'ULTRACEMCO.BO']"
      ]
     },
     "execution_count": 18,
     "metadata": {},
     "output_type": "execute_result"
    }
   ],
   "source": [
    "tickersSensex"
   ]
  },
  {
   "cell_type": "code",
   "execution_count": 49,
   "id": "11e212a6",
   "metadata": {},
   "outputs": [],
   "source": [
    "engine = sqlalchemy.create_engine('sqlite:///India.db')"
   ]
  },
  {
   "cell_type": "code",
   "execution_count": 56,
   "id": "6250fd17",
   "metadata": {},
   "outputs": [
    {
     "name": "stdout",
     "output_type": "stream",
     "text": [
      "[*********************100%***********************]  1 of 1 completed\n",
      "[*********************100%***********************]  1 of 1 completed\n",
      "[*********************100%***********************]  1 of 1 completed\n",
      "[*********************100%***********************]  1 of 1 completed\n",
      "[*********************100%***********************]  1 of 1 completed\n",
      "[*********************100%***********************]  1 of 1 completed\n",
      "[*********************100%***********************]  1 of 1 completed\n",
      "[*********************100%***********************]  1 of 1 completed\n",
      "[*********************100%***********************]  1 of 1 completed\n",
      "[*********************100%***********************]  1 of 1 completed\n",
      "[*********************100%***********************]  1 of 1 completed\n",
      "[*********************100%***********************]  1 of 1 completed\n",
      "[*********************100%***********************]  1 of 1 completed\n",
      "[*********************100%***********************]  1 of 1 completed\n",
      "[*********************100%***********************]  1 of 1 completed\n",
      "[*********************100%***********************]  1 of 1 completed\n",
      "[*********************100%***********************]  1 of 1 completed\n",
      "[*********************100%***********************]  1 of 1 completed\n",
      "[*********************100%***********************]  1 of 1 completed\n",
      "[*********************100%***********************]  1 of 1 completed\n",
      "[*********************100%***********************]  1 of 1 completed\n",
      "[*********************100%***********************]  1 of 1 completed\n",
      "[*********************100%***********************]  1 of 1 completed\n",
      "[*********************100%***********************]  1 of 1 completed\n",
      "[*********************100%***********************]  1 of 1 completed\n",
      "[*********************100%***********************]  1 of 1 completed\n",
      "[*********************100%***********************]  1 of 1 completed\n",
      "[*********************100%***********************]  1 of 1 completed\n",
      "[*********************100%***********************]  1 of 1 completed\n",
      "[*********************100%***********************]  1 of 1 completed\n"
     ]
    }
   ],
   "source": [
    "for symbol in  tickersSensex:\n",
    "    data = yf.download(symbol ,start=\"2020-01-01\", end=\"2021-01-01\").reset_index()\n",
    "    data.to_sql(symbol, engine , index = False)\n"
   ]
  },
  {
   "cell_type": "code",
   "execution_count": 59,
   "id": "7e3f3fcc",
   "metadata": {},
   "outputs": [
    {
     "data": {
      "text/html": [
       "<div>\n",
       "<style scoped>\n",
       "    .dataframe tbody tr th:only-of-type {\n",
       "        vertical-align: middle;\n",
       "    }\n",
       "\n",
       "    .dataframe tbody tr th {\n",
       "        vertical-align: top;\n",
       "    }\n",
       "\n",
       "    .dataframe thead th {\n",
       "        text-align: right;\n",
       "    }\n",
       "</style>\n",
       "<table border=\"1\" class=\"dataframe\">\n",
       "  <thead>\n",
       "    <tr style=\"text-align: right;\">\n",
       "      <th></th>\n",
       "      <th>Date</th>\n",
       "      <th>Open</th>\n",
       "      <th>High</th>\n",
       "      <th>Low</th>\n",
       "      <th>Close</th>\n",
       "      <th>Adj Close</th>\n",
       "      <th>Volume</th>\n",
       "    </tr>\n",
       "  </thead>\n",
       "  <tbody>\n",
       "    <tr>\n",
       "      <th>0</th>\n",
       "      <td>2020-01-01 00:00:00.000000</td>\n",
       "      <td>1790.150024</td>\n",
       "      <td>1803.000000</td>\n",
       "      <td>1785.000000</td>\n",
       "      <td>1793.750000</td>\n",
       "      <td>1771.409912</td>\n",
       "      <td>32156</td>\n",
       "    </tr>\n",
       "    <tr>\n",
       "      <th>1</th>\n",
       "      <td>2020-01-02 00:00:00.000000</td>\n",
       "      <td>1790.599976</td>\n",
       "      <td>1800.000000</td>\n",
       "      <td>1785.000000</td>\n",
       "      <td>1790.250000</td>\n",
       "      <td>1767.953613</td>\n",
       "      <td>22940</td>\n",
       "    </tr>\n",
       "    <tr>\n",
       "      <th>2</th>\n",
       "      <td>2020-01-03 00:00:00.000000</td>\n",
       "      <td>1788.000000</td>\n",
       "      <td>1788.000000</td>\n",
       "      <td>1747.250000</td>\n",
       "      <td>1751.650024</td>\n",
       "      <td>1729.834351</td>\n",
       "      <td>26202</td>\n",
       "    </tr>\n",
       "    <tr>\n",
       "      <th>3</th>\n",
       "      <td>2020-01-06 00:00:00.000000</td>\n",
       "      <td>1744.900024</td>\n",
       "      <td>1744.900024</td>\n",
       "      <td>1694.000000</td>\n",
       "      <td>1707.500000</td>\n",
       "      <td>1686.234253</td>\n",
       "      <td>68842</td>\n",
       "    </tr>\n",
       "    <tr>\n",
       "      <th>4</th>\n",
       "      <td>2020-01-07 00:00:00.000000</td>\n",
       "      <td>1708.300049</td>\n",
       "      <td>1740.800049</td>\n",
       "      <td>1708.300049</td>\n",
       "      <td>1723.900024</td>\n",
       "      <td>1702.429932</td>\n",
       "      <td>20856</td>\n",
       "    </tr>\n",
       "    <tr>\n",
       "      <th>...</th>\n",
       "      <td>...</td>\n",
       "      <td>...</td>\n",
       "      <td>...</td>\n",
       "      <td>...</td>\n",
       "      <td>...</td>\n",
       "      <td>...</td>\n",
       "      <td>...</td>\n",
       "    </tr>\n",
       "    <tr>\n",
       "      <th>246</th>\n",
       "      <td>2020-12-24 00:00:00.000000</td>\n",
       "      <td>2646.250000</td>\n",
       "      <td>2656.250000</td>\n",
       "      <td>2613.100098</td>\n",
       "      <td>2649.350098</td>\n",
       "      <td>2633.191895</td>\n",
       "      <td>62540</td>\n",
       "    </tr>\n",
       "    <tr>\n",
       "      <th>247</th>\n",
       "      <td>2020-12-28 00:00:00.000000</td>\n",
       "      <td>2649.350098</td>\n",
       "      <td>2688.000000</td>\n",
       "      <td>2629.600098</td>\n",
       "      <td>2683.649902</td>\n",
       "      <td>2667.282471</td>\n",
       "      <td>50949</td>\n",
       "    </tr>\n",
       "    <tr>\n",
       "      <th>248</th>\n",
       "      <td>2020-12-29 00:00:00.000000</td>\n",
       "      <td>2685.100098</td>\n",
       "      <td>2712.500000</td>\n",
       "      <td>2673.800049</td>\n",
       "      <td>2696.350098</td>\n",
       "      <td>2679.905273</td>\n",
       "      <td>42410</td>\n",
       "    </tr>\n",
       "    <tr>\n",
       "      <th>249</th>\n",
       "      <td>2020-12-30 00:00:00.000000</td>\n",
       "      <td>2698.699951</td>\n",
       "      <td>2740.899902</td>\n",
       "      <td>2680.449951</td>\n",
       "      <td>2733.550049</td>\n",
       "      <td>2716.878174</td>\n",
       "      <td>44155</td>\n",
       "    </tr>\n",
       "    <tr>\n",
       "      <th>250</th>\n",
       "      <td>2020-12-31 00:00:00.000000</td>\n",
       "      <td>2736.800049</td>\n",
       "      <td>2771.500000</td>\n",
       "      <td>2725.600098</td>\n",
       "      <td>2764.449951</td>\n",
       "      <td>2747.589844</td>\n",
       "      <td>33405</td>\n",
       "    </tr>\n",
       "  </tbody>\n",
       "</table>\n",
       "<p>251 rows × 7 columns</p>\n",
       "</div>"
      ],
      "text/plain": [
       "                           Date         Open         High          Low  \\\n",
       "0    2020-01-01 00:00:00.000000  1790.150024  1803.000000  1785.000000   \n",
       "1    2020-01-02 00:00:00.000000  1790.599976  1800.000000  1785.000000   \n",
       "2    2020-01-03 00:00:00.000000  1788.000000  1788.000000  1747.250000   \n",
       "3    2020-01-06 00:00:00.000000  1744.900024  1744.900024  1694.000000   \n",
       "4    2020-01-07 00:00:00.000000  1708.300049  1740.800049  1708.300049   \n",
       "..                          ...          ...          ...          ...   \n",
       "246  2020-12-24 00:00:00.000000  2646.250000  2656.250000  2613.100098   \n",
       "247  2020-12-28 00:00:00.000000  2649.350098  2688.000000  2629.600098   \n",
       "248  2020-12-29 00:00:00.000000  2685.100098  2712.500000  2673.800049   \n",
       "249  2020-12-30 00:00:00.000000  2698.699951  2740.899902  2680.449951   \n",
       "250  2020-12-31 00:00:00.000000  2736.800049  2771.500000  2725.600098   \n",
       "\n",
       "           Close    Adj Close  Volume  \n",
       "0    1793.750000  1771.409912   32156  \n",
       "1    1790.250000  1767.953613   22940  \n",
       "2    1751.650024  1729.834351   26202  \n",
       "3    1707.500000  1686.234253   68842  \n",
       "4    1723.900024  1702.429932   20856  \n",
       "..           ...          ...     ...  \n",
       "246  2649.350098  2633.191895   62540  \n",
       "247  2683.649902  2667.282471   50949  \n",
       "248  2696.350098  2679.905273   42410  \n",
       "249  2733.550049  2716.878174   44155  \n",
       "250  2764.449951  2747.589844   33405  \n",
       "\n",
       "[251 rows x 7 columns]"
      ]
     },
     "execution_count": 59,
     "metadata": {},
     "output_type": "execute_result"
    }
   ],
   "source": [
    "pd.read_sql('SELECT * FROM \"ASIANPAINT.BO\"' , engine )"
   ]
  },
  {
   "cell_type": "code",
   "execution_count": null,
   "id": "cba52b82",
   "metadata": {},
   "outputs": [],
   "source": []
  },
  {
   "cell_type": "code",
   "execution_count": null,
   "id": "dd4770c5",
   "metadata": {},
   "outputs": [],
   "source": []
  },
  {
   "cell_type": "code",
   "execution_count": null,
   "id": "9e95e66c",
   "metadata": {},
   "outputs": [],
   "source": []
  },
  {
   "cell_type": "code",
   "execution_count": null,
   "id": "c95df7b3",
   "metadata": {},
   "outputs": [],
   "source": []
  }
 ],
 "metadata": {
  "kernelspec": {
   "display_name": "Python 3",
   "language": "python",
   "name": "python3"
  },
  "language_info": {
   "codemirror_mode": {
    "name": "ipython",
    "version": 3
   },
   "file_extension": ".py",
   "mimetype": "text/x-python",
   "name": "python",
   "nbconvert_exporter": "python",
   "pygments_lexer": "ipython3",
   "version": "3.9.1"
  }
 },
 "nbformat": 4,
 "nbformat_minor": 5
}
